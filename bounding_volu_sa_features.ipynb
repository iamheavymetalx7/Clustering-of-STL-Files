{
  "cells": [
    {
      "cell_type": "code",
      "execution_count": 1,
      "metadata": {
        "colab": {
          "base_uri": "https://localhost:8080/"
        },
        "id": "TwT5t7lK5Ooj",
        "outputId": "e5e45080-30ad-4274-f714-688f8988ea7f"
      },
      "outputs": [
        {
          "name": "stdout",
          "output_type": "stream",
          "text": [
            "Looking in indexes: https://pypi.org/simple, https://pypi.ngc.nvidia.com\n",
            "Requirement already satisfied: numpy-stl in c:\\users\\coe\\appdata\\local\\programs\\python\\python312\\lib\\site-packages (3.1.1)\n",
            "Requirement already satisfied: numpy in c:\\users\\coe\\appdata\\local\\programs\\python\\python312\\lib\\site-packages (from numpy-stl) (1.26.4)\n",
            "Requirement already satisfied: python-utils>=3.4.5 in c:\\users\\coe\\appdata\\local\\programs\\python\\python312\\lib\\site-packages (from numpy-stl) (3.8.2)\n",
            "Requirement already satisfied: typing-extensions>3.10.0.2 in c:\\users\\coe\\appdata\\local\\programs\\python\\python312\\lib\\site-packages (from python-utils>=3.4.5->numpy-stl) (4.10.0)\n",
            "Note: you may need to restart the kernel to use updated packages.\n"
          ]
        }
      ],
      "source": [
        "pip install numpy-stl"
      ]
    },
    {
      "cell_type": "code",
      "execution_count": 2,
      "metadata": {
        "colab": {
          "base_uri": "https://localhost:8080/"
        },
        "id": "VZOYf4M0zk2s",
        "outputId": "ad431feb-4afd-48b2-a045-3c9458c0369c"
      },
      "outputs": [
        {
          "name": "stdout",
          "output_type": "stream",
          "text": [
            "Looking in indexes: https://pypi.org/simple, https://pypi.ngc.nvidia.com\n",
            "Requirement already satisfied: vtk in c:\\users\\coe\\appdata\\local\\programs\\python\\python312\\lib\\site-packages (9.3.0)\n",
            "Requirement already satisfied: matplotlib>=2.0.0 in c:\\users\\coe\\appdata\\local\\programs\\python\\python312\\lib\\site-packages (from vtk) (3.8.3)\n",
            "Requirement already satisfied: contourpy>=1.0.1 in c:\\users\\coe\\appdata\\local\\programs\\python\\python312\\lib\\site-packages (from matplotlib>=2.0.0->vtk) (1.2.0)\n",
            "Requirement already satisfied: cycler>=0.10 in c:\\users\\coe\\appdata\\local\\programs\\python\\python312\\lib\\site-packages (from matplotlib>=2.0.0->vtk) (0.12.1)\n",
            "Requirement already satisfied: fonttools>=4.22.0 in c:\\users\\coe\\appdata\\local\\programs\\python\\python312\\lib\\site-packages (from matplotlib>=2.0.0->vtk) (4.50.0)\n",
            "Requirement already satisfied: kiwisolver>=1.3.1 in c:\\users\\coe\\appdata\\local\\programs\\python\\python312\\lib\\site-packages (from matplotlib>=2.0.0->vtk) (1.4.5)\n",
            "Requirement already satisfied: numpy<2,>=1.21 in c:\\users\\coe\\appdata\\local\\programs\\python\\python312\\lib\\site-packages (from matplotlib>=2.0.0->vtk) (1.26.4)\n",
            "Requirement already satisfied: packaging>=20.0 in c:\\users\\coe\\appdata\\local\\programs\\python\\python312\\lib\\site-packages (from matplotlib>=2.0.0->vtk) (24.0)\n",
            "Requirement already satisfied: pillow>=8 in c:\\users\\coe\\appdata\\local\\programs\\python\\python312\\lib\\site-packages (from matplotlib>=2.0.0->vtk) (10.2.0)\n",
            "Requirement already satisfied: pyparsing>=2.3.1 in c:\\users\\coe\\appdata\\local\\programs\\python\\python312\\lib\\site-packages (from matplotlib>=2.0.0->vtk) (3.1.2)\n",
            "Requirement already satisfied: python-dateutil>=2.7 in c:\\users\\coe\\appdata\\roaming\\python\\python312\\site-packages (from matplotlib>=2.0.0->vtk) (2.9.0.post0)\n",
            "Requirement already satisfied: six>=1.5 in c:\\users\\coe\\appdata\\roaming\\python\\python312\\site-packages (from python-dateutil>=2.7->matplotlib>=2.0.0->vtk) (1.16.0)\n"
          ]
        }
      ],
      "source": [
        "!pip install vtk"
      ]
    },
    {
      "cell_type": "code",
      "execution_count": null,
      "metadata": {
        "colab": {
          "base_uri": "https://localhost:8080/"
        },
        "id": "LzYO8QUS5SbI",
        "outputId": "780e8e23-67fa-40ac-b75f-b98eb914b877"
      },
      "outputs": [],
      "source": []
    },
    {
      "cell_type": "code",
      "execution_count": 3,
      "metadata": {
        "id": "aJaF8N1p5Sgc"
      },
      "outputs": [
        {
          "name": "stdout",
          "output_type": "stream",
          "text": [
            "Looking in indexes: https://pypi.org/simple, https://pypi.ngc.nvidia.com\n",
            "Requirement already satisfied: networkx in c:\\users\\coe\\appdata\\local\\programs\\python\\python312\\lib\\site-packages (3.2.1)\n"
          ]
        }
      ],
      "source": [
        "!pip install networkx"
      ]
    },
    {
      "cell_type": "code",
      "execution_count": 4,
      "metadata": {
        "colab": {
          "base_uri": "https://localhost:8080/"
        },
        "id": "XuEpWpKPtpCR",
        "outputId": "7d058e51-b09c-4299-a9e9-fa8c13f0fee2"
      },
      "outputs": [
        {
          "name": "stdout",
          "output_type": "stream",
          "text": [
            "Looking in indexes: https://pypi.org/simple, https://pypi.ngc.nvidia.com\n",
            "Requirement already satisfied: scipy in c:\\users\\coe\\appdata\\local\\programs\\python\\python312\\lib\\site-packages (1.12.0)\n",
            "Requirement already satisfied: numpy<1.29.0,>=1.22.4 in c:\\users\\coe\\appdata\\local\\programs\\python\\python312\\lib\\site-packages (from scipy) (1.26.4)\n"
          ]
        }
      ],
      "source": [
        "!pip install scipy\n"
      ]
    },
    {
      "cell_type": "code",
      "execution_count": 5,
      "metadata": {
        "colab": {
          "base_uri": "https://localhost:8080/"
        },
        "id": "ehojaflGtrzN",
        "outputId": "e3eb71b7-fb7f-466c-c255-cb572d8b412e"
      },
      "outputs": [
        {
          "name": "stdout",
          "output_type": "stream",
          "text": [
            "Number of Tetrahedra: 168\n"
          ]
        }
      ],
      "source": [
        "import numpy as np\n",
        "from stl import mesh\n",
        "\n",
        "def calculate_tetrahedra_count(mesh_data):\n",
        "    # Access the vertices and triangles from the mesh\n",
        "    vertices = mesh_data.vectors.reshape(-1, 3)\n",
        "    triangles = mesh_data.vectors\n",
        "\n",
        "    # Initialize a set to store unique tetrahedra\n",
        "    unique_tetrahedra = set()\n",
        "\n",
        "    # Iterate over each triangle and form tetrahedra\n",
        "    for triangle in triangles:\n",
        "        tetrahedra = np.vstack([triangle, [0, 0, 0]])\n",
        "        unique_tetrahedra.add(tuple(map(tuple, tetrahedra)))\n",
        "\n",
        "    # Count the unique tetrahedra\n",
        "    tetrahedra_count = len(unique_tetrahedra)\n",
        "\n",
        "    return tetrahedra_count\n",
        "\n",
        "# Example usage\n",
        "stl_file_path = \"C:\\\\Users\\\\COE\\\\Desktop\\\\stl_1000\\\\123597_310-711du_prt.stl\"\n",
        "mesh_data = mesh.Mesh.from_file(stl_file_path)\n",
        "tetrahedra_count = calculate_tetrahedra_count(mesh_data)\n",
        "print(f\"Number of Tetrahedra: {tetrahedra_count}\")\n"
      ]
    },
    {
      "cell_type": "code",
      "execution_count": 6,
      "metadata": {
        "colab": {
          "base_uri": "https://localhost:8080/"
        },
        "id": "6sl01grtw3RM",
        "outputId": "ef544140-06d0-421e-b747-81eb4a009bed"
      },
      "outputs": [
        {
          "name": "stdout",
          "output_type": "stream",
          "text": [
            "1428\n"
          ]
        }
      ],
      "source": [
        "import numpy\n",
        "import stl\n",
        "\n",
        "def parse_stl(stl_file):\n",
        "\n",
        "    # Load the STL file\n",
        "    mesh_data = mesh.Mesh.from_file(stl_file)\n",
        "\n",
        "    # Extract vertices and faces\n",
        "    vertices = mesh_data.vectors.reshape((-1, 3))\n",
        "    faces = np.arange(len(vertices)).reshape((-1, 3))\n",
        "\n",
        "    return vertices, faces\n",
        "face,vertices=parse_stl(r\"C:\\Users\\COE\\Desktop\\stl_1000\\122409_307-134d_flat1_prt.stl\")\n",
        "print(len(face))"
      ]
    },
    {
      "cell_type": "code",
      "execution_count": 7,
      "metadata": {
        "colab": {
          "base_uri": "https://localhost:8080/"
        },
        "id": "-todpwvKzXBo",
        "outputId": "0bb51faf-680b-45c8-f588-bc6230319d1b"
      },
      "outputs": [
        {
          "name": "stdout",
          "output_type": "stream",
          "text": [
            "Number of faces in the STL file: 476\n"
          ]
        }
      ],
      "source": [
        "import vtk\n",
        "\n",
        "# Load the STL file\n",
        "reader = vtk.vtkSTLReader()\n",
        "reader.SetFileName(r\"C:\\Users\\COE\\Desktop\\stl_1000\\122409_307-134d_flat1_prt.stl\")\n",
        "reader.Update()\n",
        "\n",
        "# Get the number of cells (faces in an STL file)\n",
        "num_faces = reader.GetOutput().GetNumberOfCells()\n",
        "\n",
        "# Print the number of faces\n",
        "print(\"Number of faces in the STL file:\", num_faces)"
      ]
    },
    {
      "cell_type": "code",
      "execution_count": null,
      "metadata": {},
      "outputs": [],
      "source": []
    },
    {
      "cell_type": "code",
      "execution_count": 8,
      "metadata": {
        "colab": {
          "base_uri": "https://localhost:8080/"
        },
        "id": "6zaDLXU35Si5",
        "outputId": "588288d4-2a93-4548-f217-5701b8370b3e"
      },
      "outputs": [
        {
          "name": "stdout",
          "output_type": "stream",
          "text": [
            "Number of Connected Components: 1\n"
          ]
        }
      ],
      "source": [
        "import os\n",
        "import numpy as np\n",
        "from stl import mesh\n",
        "import networkx as nx\n",
        "from scipy.sparse.csgraph import connected_components\n",
        "\n",
        "def calculate_connectivity_topology(mesh_data):\n",
        "    \"\"\"\n",
        "    Calculate connectivity and topology features for an STL mesh.\n",
        "\n",
        "    Parameters:\n",
        "    - mesh_data: STL mesh data\n",
        "\n",
        "    Returns:\n",
        "    - num_connected_components: Number of connected components in the mesh\n",
        "    \"\"\"\n",
        "    G = nx.Graph()\n",
        "    for facet in mesh_data.vectors:\n",
        "        for i in range(3):\n",
        "            edge = tuple(facet[i])\n",
        "            next_i = (i + 1) % 3\n",
        "            next_edge = tuple(facet[next_i])\n",
        "            G.add_edge(edge, next_edge)\n",
        "\n",
        "    adjacency_matrix = nx.adjacency_matrix(G)\n",
        "    num_connected_components = connected_components(adjacency_matrix)[0]\n",
        "\n",
        "    return num_connected_components\n",
        "\n",
        "# Example usage\n",
        "stl_file_path = \"C:\\\\Users\\\\COE\\\\Desktop\\\\stl_1000\\\\122409_307-134d_flat1_prt.stl\"\n",
        "mesh_data = mesh.Mesh.from_file(stl_file_path)\n",
        "num_connected_components = calculate_connectivity_topology(mesh_data)\n",
        "print(f\"Number of Connected Components: {num_connected_components}\")"
      ]
    },
    {
      "cell_type": "code",
      "execution_count": null,
      "metadata": {
        "colab": {
          "base_uri": "https://localhost:8080/"
        },
        "id": "kvjkWp0UtxbU",
        "outputId": "99fb6c86-3452-4d95-9952-131bd8285d49"
      },
      "outputs": [],
      "source": []
    },
    {
      "cell_type": "code",
      "execution_count": null,
      "metadata": {},
      "outputs": [],
      "source": []
    },
    {
      "cell_type": "code",
      "execution_count": null,
      "metadata": {
        "colab": {
          "base_uri": "https://localhost:8080/",
          "height": 384
        },
        "id": "68CDC0I9uBcm",
        "outputId": "7db8987c-27fe-41ab-ff68-01ba2a4b9ea0"
      },
      "outputs": [],
      "source": []
    },
    {
      "cell_type": "code",
      "execution_count": 9,
      "metadata": {
        "colab": {
          "base_uri": "https://localhost:8080/"
        },
        "id": "cdIGdbZp5Slc",
        "outputId": "ab907258-bd14-4665-c7b0-7a17e01024dc"
      },
      "outputs": [
        {
          "name": "stdout",
          "output_type": "stream",
          "text": [
            "Normal Distribution Mean: [ 0.000000e+00 -4.069645e-10  8.028291e-02]\n",
            "Normal Distribution Std: [0.7100716  0.5062636  0.48275307]\n"
          ]
        }
      ],
      "source": [
        "from sklearn.preprocessing import normalize\n",
        "\n",
        "def calculate_vertex_normals_distribution(mesh_data):\n",
        "    \"\"\"\n",
        "    Calculate the distribution of vertex normals for an STL mesh.\n",
        "\n",
        "    Parameters:\n",
        "    - mesh_data: STL mesh data\n",
        "\n",
        "    Returns:\n",
        "    - normal_distribution: Tuple containing mean and standard deviation of vertex normals\n",
        "    \"\"\"\n",
        "    vertex_normals = normalize(mesh_data.normals)\n",
        "    normal_distribution = (np.mean(vertex_normals, axis=0), np.std(vertex_normals, axis=0))\n",
        "\n",
        "    return normal_distribution\n",
        "\n",
        "# Example usage\n",
        "stl_file_path =\"C:\\\\Users\\\\COE\\\\Desktop\\\\stl_1000\\\\122409_307-134d_flat1_prt.stl\"\n",
        "mesh_data = mesh.Mesh.from_file(stl_file_path)\n",
        "normal_distribution = calculate_vertex_normals_distribution(mesh_data)\n",
        "print(f\"Normal Distribution Mean: {normal_distribution[0]}\")\n",
        "print(f\"Normal Distribution Std: {normal_distribution[1]}\")\n"
      ]
    },
    {
      "cell_type": "code",
      "execution_count": null,
      "metadata": {
        "id": "a1_oZjUjt_0P"
      },
      "outputs": [],
      "source": []
    },
    {
      "cell_type": "code",
      "execution_count": 10,
      "metadata": {
        "colab": {
          "base_uri": "https://localhost:8080/"
        },
        "id": "T69v4F2l5So0",
        "outputId": "202e7814-022a-4a28-92e8-a5946e2f58ec"
      },
      "outputs": [
        {
          "name": "stdout",
          "output_type": "stream",
          "text": [
            "Error: Unable to compute normals.\n",
            "Symmetry plane calculation failed.\n"
          ]
        }
      ],
      "source": [
        "import vtk\n",
        "from vtk.util.numpy_support import vtk_to_numpy\n",
        "import numpy as np\n",
        "\n",
        "def calculate_symmetry_planes(stl_file_path):\n",
        "    # Read STL file using vtkSTLReader\n",
        "    reader = vtk.vtkSTLReader()\n",
        "    reader.SetFileName(stl_file_path)\n",
        "\n",
        "    # Calculate normals\n",
        "    normals = vtk.vtkPolyDataNormals()\n",
        "    normals.SetInputConnection(reader.GetOutputPort())\n",
        "    normals.ConsistencyOn()\n",
        "    normals.SplittingOff()\n",
        "\n",
        "    # Check if normals are successfully computed\n",
        "    if normals.GetOutput().GetNumberOfPoints() == 0:\n",
        "        print(\"Error: Unable to compute normals.\")\n",
        "        return None\n",
        "\n",
        "    # Extract normals as numpy array\n",
        "    normals_array = vtk_to_numpy(normals.GetOutput().GetPointData().GetNormals())\n",
        "\n",
        "    # Check if normals_array is not empty\n",
        "    if len(normals_array) == 0:\n",
        "        print(\"Error: Empty normals array.\")\n",
        "        return None\n",
        "\n",
        "    # Calculate the centroid of the mesh\n",
        "    centroid = np.mean(normals_array, axis=0)\n",
        "\n",
        "    # Use vtkTransformFilter to align the normals along the principal axes\n",
        "    transform = vtk.vtkTransform()\n",
        "    transform.Translate(-centroid[0], -centroid[1], -centroid[2])\n",
        "\n",
        "    transformFilter = vtk.vtkTransformFilter()\n",
        "    transformFilter.SetInputConnection(normals.GetOutputPort())\n",
        "    transformFilter.SetTransform(transform)\n",
        "\n",
        "    # Calculate the covariance matrix\n",
        "    covarianceMatrix = vtk.vtkMatrix4x4()\n",
        "    vtk.vtkMath.CovarianceMatrix(normals_array, covarianceMatrix)\n",
        "\n",
        "    # Calculate the eigenvalues and eigenvectors\n",
        "    eigenvalue, eigenvector = np.linalg.eigh(covarianceMatrix)\n",
        "\n",
        "    # Use the eigenvector corresponding to the smallest eigenvalue as the symmetry plane normal\n",
        "    symmetry_plane_normal = eigenvector[:, 0]\n",
        "\n",
        "    return symmetry_plane_normal\n",
        "\n",
        "# Example usage\n",
        "stl_file_path = \"C:\\\\Users\\\\COE\\\\Desktop\\\\stl_1000\\\\122409_307-134d_flat1_prt.stl\"\n",
        "symmetry_plane_normal = calculate_symmetry_planes(stl_file_path)\n",
        "\n",
        "if symmetry_plane_normal is not None:\n",
        "    print(f\"Symmetry Plane Normal:\\n{symmetry_plane_normal}\")\n",
        "else:\n",
        "    print(\"Symmetry plane calculation failed.\")\n"
      ]
    },
    {
      "cell_type": "code",
      "execution_count": null,
      "metadata": {
        "colab": {
          "base_uri": "https://localhost:8080/",
          "height": 349
        },
        "id": "Un_2LdBJ9Ia6",
        "outputId": "679fc943-083e-4447-b429-b673ae62e2e7"
      },
      "outputs": [],
      "source": []
    },
    {
      "cell_type": "code",
      "execution_count": 11,
      "metadata": {
        "colab": {
          "base_uri": "https://localhost:8080/"
        },
        "id": "XcdwPvkp_mtg",
        "outputId": "b14eb8a5-0a5b-4feb-a27f-0aa5bb264b5a"
      },
      "outputs": [
        {
          "name": "stdout",
          "output_type": "stream",
          "text": [
            "Looking in indexes: https://pypi.org/simple, https://pypi.ngc.nvidia.com\n",
            "Requirement already satisfied: vtk in c:\\users\\coe\\appdata\\local\\programs\\python\\python312\\lib\\site-packages (9.3.0)\n",
            "Requirement already satisfied: matplotlib>=2.0.0 in c:\\users\\coe\\appdata\\local\\programs\\python\\python312\\lib\\site-packages (from vtk) (3.8.3)\n",
            "Requirement already satisfied: contourpy>=1.0.1 in c:\\users\\coe\\appdata\\local\\programs\\python\\python312\\lib\\site-packages (from matplotlib>=2.0.0->vtk) (1.2.0)\n",
            "Requirement already satisfied: cycler>=0.10 in c:\\users\\coe\\appdata\\local\\programs\\python\\python312\\lib\\site-packages (from matplotlib>=2.0.0->vtk) (0.12.1)\n",
            "Requirement already satisfied: fonttools>=4.22.0 in c:\\users\\coe\\appdata\\local\\programs\\python\\python312\\lib\\site-packages (from matplotlib>=2.0.0->vtk) (4.50.0)\n",
            "Requirement already satisfied: kiwisolver>=1.3.1 in c:\\users\\coe\\appdata\\local\\programs\\python\\python312\\lib\\site-packages (from matplotlib>=2.0.0->vtk) (1.4.5)\n",
            "Requirement already satisfied: numpy<2,>=1.21 in c:\\users\\coe\\appdata\\local\\programs\\python\\python312\\lib\\site-packages (from matplotlib>=2.0.0->vtk) (1.26.4)\n",
            "Requirement already satisfied: packaging>=20.0 in c:\\users\\coe\\appdata\\local\\programs\\python\\python312\\lib\\site-packages (from matplotlib>=2.0.0->vtk) (24.0)\n",
            "Requirement already satisfied: pillow>=8 in c:\\users\\coe\\appdata\\local\\programs\\python\\python312\\lib\\site-packages (from matplotlib>=2.0.0->vtk) (10.2.0)\n",
            "Requirement already satisfied: pyparsing>=2.3.1 in c:\\users\\coe\\appdata\\local\\programs\\python\\python312\\lib\\site-packages (from matplotlib>=2.0.0->vtk) (3.1.2)\n",
            "Requirement already satisfied: python-dateutil>=2.7 in c:\\users\\coe\\appdata\\roaming\\python\\python312\\site-packages (from matplotlib>=2.0.0->vtk) (2.9.0.post0)\n",
            "Requirement already satisfied: six>=1.5 in c:\\users\\coe\\appdata\\roaming\\python\\python312\\site-packages (from python-dateutil>=2.7->matplotlib>=2.0.0->vtk) (1.16.0)\n"
          ]
        }
      ],
      "source": [
        "!pip install vtk"
      ]
    },
    {
      "cell_type": "code",
      "execution_count": 12,
      "metadata": {
        "colab": {
          "base_uri": "https://localhost:8080/"
        },
        "id": "32Z6syqQ_jl2",
        "outputId": "b56ed55c-3b26-4f7b-bac5-cd6b6d8ecb9e"
      },
      "outputs": [
        {
          "name": "stdout",
          "output_type": "stream",
          "text": [
            "vtkDoubleArray (000001E7C5901D40)\n",
            "  Debug: Off\n",
            "  Modified Time: 1020\n",
            "  Reference Count: 2\n",
            "  Registered Events: (none)\n",
            "  Name: Mean_Curvature\n",
            "  Data type: double\n",
            "  Size: 236\n",
            "  MaxId: 235\n",
            "  NumberOfComponents: 1\n",
            "  Information: 0000000000000000\n",
            "  Name: Mean_Curvature\n",
            "  Number Of Components: 1\n",
            "  Number Of Tuples: 236\n",
            "  Size: 236\n",
            "  MaxId: 235\n",
            "  LookupTable: (none)\n",
            "\n",
            "\n"
          ]
        }
      ],
      "source": [
        "import vtk\n",
        "\n",
        "# Load the STL file\n",
        "reader = vtk.vtkSTLReader()\n",
        "reader.SetFileName(\"C:\\\\Users\\\\COE\\\\Desktop\\\\stl_1000\\\\122409_307-134d_flat1_prt.stl\")\n",
        "reader.Update()\n",
        "\n",
        "# Calculate mean curvature\n",
        "curve = vtk.vtkCurvatures()\n",
        "curve.SetInputConnection(reader.GetOutputPort())\n",
        "curve.SetCurvatureTypeToMean()  # Or Gaussian curvature if needed\n",
        "curve.Update()\n",
        "\n",
        "# Access curvature values\n",
        "dataObject = curve.GetOutput()\n",
        "curvature_array = dataObject.GetPointData().GetScalars()\n",
        "\n",
        "print(curvature_array)"
      ]
    },
    {
      "cell_type": "code",
      "execution_count": 13,
      "metadata": {
        "colab": {
          "base_uri": "https://localhost:8080/"
        },
        "id": "2Hj8z2aZALOG",
        "outputId": "c5711618-2c27-4b62-fa7a-05858b11c038"
      },
      "outputs": [
        {
          "name": "stdout",
          "output_type": "stream",
          "text": [
            "Point: (-1.0, 2.75, -4.0536370277404785), Curvature: 0.5078292563684507\n",
            "Point: (-1.0, 2.75, -0.5464702248573303), Curvature: 0.26736958753955686\n",
            "Point: (-1.0, -2.75, -0.5464702248573303), Curvature: 0.22917393217676302\n",
            "Point: (-1.0, -2.75, -0.4744054973125458), Curvature: 0.3208435050474682\n",
            "Point: (-1.0, -2.75, -4.0536370277404785), Curvature: 0.6347865704605633\n",
            "Point: (-1.375, -2.75, -4.0536370277404785), Curvature: 0.5078292563684507\n",
            "Point: (-1.375, -2.75, -0.4744054973125458), Curvature: 0.24798326410910485\n",
            "Point: (-1.375, -2.75, -0.5464702248573303), Curvature: 0.3208435050474682\n",
            "Point: (-1.375, 2.75, -0.5464702248573303), Curvature: 0.26736958753955686\n",
            "Point: (-1.0, 2.75, -0.4744054973125458), Curvature: 0.25275217303427994\n",
            "Point: (-1.375, 2.75, -0.4744054973125458), Curvature: 0.26736958753955686\n",
            "Point: (-1.375, 2.75, -4.0536370277404785), Curvature: 0.6347865704605633\n",
            "Point: (-1.0, 2.743151903152466, 2.755664110183716), Curvature: 3.073400043537347\n",
            "Point: (-1.0, 2.75, 2.625), Curvature: 5.290371981596882\n",
            "Point: (-1.375, 2.75, 2.625), Curvature: 0.32645416199873345\n",
            "Point: (-1.375, 2.743151903152466, 2.755664110183716), Curvature: 0.5458725333239689\n",
            "Point: (-1.0, -2.75, 2.625), Curvature: 0.32645416199873345\n",
            "Point: (-1.0, -2.743151903152466, 2.755664110183716), Curvature: 0.5458725333239689\n",
            "Point: (-1.0, -2.722683906555176, 2.8848929405212402), Curvature: 0.8540641706465656\n",
            "Point: (-1.0, -1.7292369604110718, 2.3094840049743652), Curvature: 2.548150911712907\n",
            "Point: (-1.0, 2.124998092651367, 3.7075328826904297), Curvature: 0.7531018759887891\n",
            "Point: (-1.0, 2.008419990539551, 3.7669320106506348), Curvature: 0.9352449864932155\n",
            "Point: (-1.0, 1.8899999856948853, 2.625), Curvature: 1.3552981795484453\n",
            "Point: (-1.0, 2.234729051589966, 3.63627290725708), Curvature: 0.7966144851865379\n",
            "Point: (-1.0, 2.336411952972412, 3.553931951522827), Curvature: 0.8520726216856268\n",
            "Point: (-1.0, 2.428931951522827, 3.461411952972412), Curvature: 0.9238237131638936\n",
            "Point: (-1.0, 2.51127290725708, 3.359729051589966), Curvature: 1.0187417332872397\n",
            "Point: (-1.0, 2.5825328826904297, 3.249998092651367), Curvature: 1.1483271197459572\n",
            "Point: (-1.0, 2.6419320106506348, 3.133419990539551), Curvature: 1.3332854133661454\n",
            "Point: (-1.0, 2.6888198852539062, 3.01127290725708), Curvature: 1.6152825424522923\n",
            "Point: (-1.0, 2.722683906555176, 2.8848929405212402), Curvature: 2.092784263973578\n",
            "Point: (-1.0, 1.561007022857666, 2.2398009300231934), Curvature: -0.18677699448251453\n",
            "Point: (-1.0, 1.5, 2.234999895095825), Curvature: -0.1565945544067156\n",
            "Point: (-1.0, 1.438992977142334, 2.2398009300231934), Curvature: -0.10552279179422079\n",
            "Point: (-1.0, 1.620514988899231, 2.254086971282959), Curvature: -0.200550123482103\n",
            "Point: (-1.0, 1.6770559549331665, 2.2775070667266846), Curvature: -0.19966617467390818\n",
            "Point: (-1.0, 1.7292369604110718, 2.3094840049743652), Curvature: -0.18409998566115107\n",
            "Point: (-1.0, 1.775773048400879, 2.3492300510406494), Curvature: -0.15170021793932165\n",
            "Point: (-1.0, 1.8155180215835571, 2.3957650661468506), Curvature: -0.09778282662161857\n",
            "Point: (-1.0, 1.847491979598999, 2.4479429721832275), Curvature: -0.012195908882160999\n",
            "Point: (-1.0, 1.8709110021591187, 2.504481077194214), Curvature: 0.12452685235896119\n",
            "Point: (-1.0, 1.8851979970932007, 2.5639889240264893), Curvature: 0.35826045637403414\n",
            "Point: (-1.0, 1.1844819784164429, 2.3957650661468506), Curvature: 1.8746405613482569\n",
            "Point: (-1.0, 1.152508020401001, 2.4479429721832275), Curvature: 1.1408975217445079\n",
            "Point: (-1.0, -1.1100000143051147, 2.625), Curvature: -0.10826701146128566\n",
            "Point: (-1.0, 1.224226951599121, 2.3492300510406494), Curvature: 0.7443426126029997\n",
            "Point: (-1.0, 1.2707630395889282, 2.3094840049743652), Curvature: 0.3225393363225235\n",
            "Point: (-1.0, 1.3229440450668335, 2.2775070667266846), Curvature: 0.10444726172285482\n",
            "Point: (-1.0, 1.379485011100769, 2.254086971282959), Curvature: -0.024597365490209723\n",
            "Point: (-1.0, -1.438992977142334, 2.2398009300231934), Curvature: -0.2575006101436241\n",
            "Point: (-1.0, -1.5, 2.234999895095825), Curvature: -0.14993252763497367\n",
            "Point: (-1.0, -1.561007022857666, 2.2398009300231934), Curvature: 0.043016721972279195\n",
            "Point: (-1.0, -1.379485011100769, 2.254086971282959), Curvature: -0.323411687047429\n",
            "Point: (-1.0, -1.3229440450668335, 2.2775070667266846), Curvature: -0.3651220205167614\n",
            "Point: (-1.0, -1.2707630395889282, 2.3094840049743652), Curvature: -0.39097878359932664\n",
            "Point: (-1.0, -1.224226951599121, 2.3492300510406494), Curvature: -0.40510611205647845\n",
            "Point: (-1.0, -1.1844819784164429, 2.3957650661468506), Curvature: -0.4097028764556973\n",
            "Point: (-1.0, -1.152508020401001, 2.4479429721832275), Curvature: -0.4049169854615554\n",
            "Point: (-1.0, -1.1290889978408813, 2.504481077194214), Curvature: -0.39053045457586855\n",
            "Point: (-1.0, -1.1148020029067993, 2.5639889240264893), Curvature: -0.3643616033256536\n",
            "Point: (-1.0, -1.6770559549331665, 2.2775070667266846), Curvature: 2.3091060096170515\n",
            "Point: (-1.0, -1.620514988899231, 2.254086971282959), Curvature: 0.469792490546721\n",
            "Point: (-1.375, -2.75, 2.625), Curvature: 5.290371981596882\n",
            "Point: (-1.375, -2.743151903152466, 2.755664110183716), Curvature: 3.073400043537347\n",
            "Point: (-1.0, -2.6888198852539062, 3.01127290725708), Curvature: 1.2657331224903772\n",
            "Point: (-1.375, -2.722683906555176, 2.8848929405212402), Curvature: 2.092784263973578\n",
            "Point: (-1.0, -1.775773048400879, 2.3492300510406494), Curvature: 2.5676973010209627\n",
            "Point: (-1.0, -2.6419320106506348, 3.133419990539551), Curvature: 1.510748875004229\n",
            "Point: (-1.375, -2.6888198852539062, 3.01127290725708), Curvature: 1.6152825424522923\n",
            "Point: (-1.0, -2.5825328826904297, 3.249998092651367), Curvature: 1.2521457839402241\n",
            "Point: (-1.375, -2.6419320106506348, 3.133419990539551), Curvature: 1.3332854133661454\n",
            "Point: (-1.0, -1.8155180215835571, 2.3957650661468506), Curvature: 2.9954984316298727\n",
            "Point: (-1.0, -2.51127290725708, 3.359729051589966), Curvature: 1.2657373769201854\n",
            "Point: (-1.375, -2.5825328826904297, 3.249998092651367), Curvature: 1.1483271197459572\n",
            "Point: (-1.0, -1.847491979598999, 2.4479429721832275), Curvature: 2.5676633424044972\n",
            "Point: (-1.0, -2.428931951522827, 3.461411952972412), Curvature: 1.510747659010447\n",
            "Point: (-1.375, -2.51127290725708, 3.359729051589966), Curvature: 1.0187417332872397\n",
            "Point: (-1.0, -2.336411952972412, 3.553931951522827), Curvature: 1.2521369956435577\n",
            "Point: (-1.375, -2.428931951522827, 3.461411952972412), Curvature: 0.9238237131638936\n",
            "Point: (-1.0, -1.8709110021591187, 2.504481077194214), Curvature: 2.9956801840259857\n",
            "Point: (-1.0, -2.234729051589966, 3.63627290725708), Curvature: 1.2657349695681972\n",
            "Point: (-1.375, -2.336411952972412, 3.553931951522827), Curvature: 0.8520726216856268\n",
            "Point: (-1.0, -1.8851979970932007, 2.5639889240264893), Curvature: 2.567729403836997\n",
            "Point: (-1.0, -2.124998092651367, 3.7075328826904297), Curvature: 1.510752973510521\n",
            "Point: (-1.375, -2.234729051589966, 3.63627290725708), Curvature: 0.7966144851865378\n",
            "Point: (-1.0, -2.008419990539551, 3.7669320106506348), Curvature: 1.2521357563674373\n",
            "Point: (-1.375, -2.124998092651367, 3.7075328826904297), Curvature: 0.7531018759887891\n",
            "Point: (-1.0, -1.8899999856948853, 2.625), Curvature: 2.9955880913071895\n",
            "Point: (-1.0, -1.8862730264663696, 3.8138198852539062), Curvature: 0.804270314018557\n",
            "Point: (-1.375, -2.008419990539551, 3.7669320106506348), Curvature: 0.9352449864932155\n",
            "Point: (-1.0, -1.775773048400879, 2.9007699489593506), Curvature: 0.8289865268878835\n",
            "Point: (-1.0, -1.7598929405212402, 3.847683906555176), Curvature: 1.2327216350737278\n",
            "Point: (-1.375, -1.8862730264663696, 3.8138198852539062), Curvature: 1.26573489770658\n",
            "Point: (-1.0, -1.8155180215835571, 2.8542349338531494), Curvature: 1.131943147261215\n",
            "Point: (-1.0, -1.847491979598999, 2.8020570278167725), Curvature: 1.4172021881234134\n",
            "Point: (-1.0, -1.8709110021591187, 2.745518922805786), Curvature: 1.885173095511928\n",
            "Point: (-1.0, -1.8851979970932007, 2.6860110759735107), Curvature: 2.7328744602098296\n",
            "Point: (-1.0, -1.6770559549331665, 2.9724929332733154), Curvature: 0.6956971519760194\n",
            "Point: (-1.0, -1.6306639909744263, 3.868151903152466), Curvature: 1.0978286223276736\n",
            "Point: (-1.375, -1.7598929405212402, 3.847683906555176), Curvature: 0.8111683112282879\n",
            "Point: (-1.0, -1.7292369604110718, 2.9405159950256348), Curvature: 0.9081961728187086\n",
            "Point: (-1.0, -1.5, 3.015000104904175), Curvature: 0.6312018843209336\n",
            "Point: (-1.0, -1.5, 3.875), Curvature: 0.32021745018244296\n",
            "Point: (-1.375, -1.6306639909744263, 3.868151903152466), Curvature: 1.2392113798530509\n",
            "Point: (-1.0, -1.561007022857666, 3.0101990699768066), Curvature: 0.7616963143059994\n",
            "Point: (-1.0, -1.620514988899231, 2.995913028717041), Curvature: 0.7945157842047773\n",
            "Point: (-1.0, 1.5, 3.015000104904175), Curvature: 0.5307676955764324\n",
            "Point: (-1.0, 1.5, 3.875), Curvature: 1.0923062948593893\n",
            "Point: (-1.375, -1.5, 3.875), Curvature: 1.0923062948593891\n",
            "Point: (-1.0, 1.438992977142334, 3.0101990699768066), Curvature: 0.3676509998922629\n",
            "Point: (-1.0, 1.379485011100769, 2.995913028717041), Curvature: 0.13719193517364064\n",
            "Point: (-1.0, 1.3229440450668335, 2.9724929332733154), Curvature: 0.0014899309248101566\n",
            "Point: (-1.0, 1.2707630395889282, 2.9405159950256348), Curvature: -0.08354165513338288\n",
            "Point: (-1.0, 1.224226951599121, 2.9007699489593506), Curvature: -0.137217240599162\n",
            "Point: (-1.0, 1.1844819784164429, 2.8542349338531494), Curvature: -0.16925500508834218\n",
            "Point: (-1.0, 1.152508020401001, 2.8020570278167725), Curvature: -0.18398118341570263\n",
            "Point: (-1.0, 1.1290889978408813, 2.745518922805786), Curvature: -0.1838030631450403\n",
            "Point: (-1.0, 1.1148020029067993, 2.6860110759735107), Curvature: -0.1685474917151847\n",
            "Point: (-1.0, 1.1100000143051147, 2.625), Curvature: -0.06212957251546247\n",
            "Point: (-1.0, -1.1290889978408813, 2.745518922805786), Curvature: 1.360118145758311\n",
            "Point: (-1.0, -1.152508020401001, 2.8020570278167725), Curvature: 2.7329658874780764\n",
            "Point: (-1.0, -1.1844819784164429, 2.8542349338531494), Curvature: 1.8851174076653106\n",
            "Point: (-1.0, -1.224226951599121, 2.9007699489593506), Curvature: 1.4172206044977556\n",
            "Point: (-1.0, -1.2707630395889282, 2.9405159950256348), Curvature: 1.132046475401958\n",
            "Point: (-1.0, -1.3229440450668335, 2.9724929332733154), Curvature: 0.951840271283267\n",
            "Point: (-1.0, -1.379485011100769, 2.995913028717041), Curvature: 0.8402252834868463\n",
            "Point: (-1.0, -1.438992977142334, 3.0101990699768066), Curvature: 0.7790744877796669\n",
            "Point: (-1.0, 1.620514988899231, 2.995913028717041), Curvature: 0.6748124044195943\n",
            "Point: (-1.0, 1.6306639909744263, 3.868151903152466), Curvature: 1.2392113798530509\n",
            "Point: (-1.375, 1.5, 3.875), Curvature: 0.3202174501824429\n",
            "Point: (-1.0, 1.561007022857666, 3.0101990699768066), Curvature: 0.7790744877796669\n",
            "Point: (-1.0, 1.7292369604110718, 2.9405159950256348), Curvature: 0.7871327155463405\n",
            "Point: (-1.0, 1.7598929405212402, 3.847683906555176), Curvature: 0.8111683112282879\n",
            "Point: (-1.375, 1.6306639909744263, 3.868151903152466), Curvature: 1.0978286223276736\n",
            "Point: (-1.0, 1.6770559549331665, 2.9724929332733154), Curvature: 0.8711996682081237\n",
            "Point: (-1.0, 1.8851979970932007, 2.6860110759735107), Curvature: 2.546778286640665\n",
            "Point: (-1.0, 1.8862730264663696, 3.8138198852539062), Curvature: 1.26573489770658\n",
            "Point: (-1.375, 1.7598929405212402, 3.847683906555176), Curvature: 1.2327216350737278\n",
            "Point: (-1.0, 1.8709110021591187, 2.745518922805786), Curvature: 2.3850219846230853\n",
            "Point: (-1.0, 1.847491979598999, 2.8020570278167725), Curvature: 1.7008254717263838\n",
            "Point: (-1.0, 1.8155180215835571, 2.8542349338531494), Curvature: 1.3068688109232407\n",
            "Point: (-1.0, 1.775773048400879, 2.9007699489593506), Curvature: 1.0626756176767045\n",
            "Point: (-1.375, 1.8862730264663696, 3.8138198852539062), Curvature: 0.804270314018557\n",
            "Point: (-1.375, 2.008419990539551, 3.7669320106506348), Curvature: 1.2521357563674373\n",
            "Point: (-1.375, 2.124998092651367, 3.7075328826904297), Curvature: 1.510752973510521\n",
            "Point: (-1.375, 2.234729051589966, 3.63627290725708), Curvature: 1.2657349695681972\n",
            "Point: (-1.375, 2.336411952972412, 3.553931951522827), Curvature: 1.252136995643558\n",
            "Point: (-1.375, 2.428931951522827, 3.461411952972412), Curvature: 1.5107476590104472\n",
            "Point: (-1.375, 2.51127290725708, 3.359729051589966), Curvature: 1.2657373769201854\n",
            "Point: (-1.375, 2.5825328826904297, 3.249998092651367), Curvature: 1.2521457839402241\n",
            "Point: (-1.375, 2.6419320106506348, 3.133419990539551), Curvature: 1.510748875004229\n",
            "Point: (-1.375, 2.6888198852539062, 3.01127290725708), Curvature: 1.2657331224903772\n",
            "Point: (-1.375, 2.722683906555176, 2.8848929405212402), Curvature: 0.8540641706465656\n",
            "Point: (-1.375, 1.5, 2.234999895095825), Curvature: -0.14993252763497372\n",
            "Point: (-1.375, 1.438992977142334, 2.2398009300231934), Curvature: -0.2575006101436241\n",
            "Point: (-1.375, 1.561007022857666, 2.2398009300231934), Curvature: 0.043016721972279195\n",
            "Point: (-1.375, 1.620514988899231, 2.254086971282959), Curvature: 0.469792490546721\n",
            "Point: (-1.375, 1.6770559549331665, 2.2775070667266846), Curvature: 2.3091060096170515\n",
            "Point: (-1.375, 1.7292369604110718, 2.3094840049743652), Curvature: 2.5481509117129066\n",
            "Point: (-1.375, 1.775773048400879, 2.3492300510406494), Curvature: 2.5676973010209627\n",
            "Point: (-1.375, 1.8155180215835571, 2.3957650661468506), Curvature: 2.9954984316298727\n",
            "Point: (-1.375, 1.847491979598999, 2.4479429721832275), Curvature: 2.5676633424044977\n",
            "Point: (-1.375, 1.8709110021591187, 2.504481077194214), Curvature: 2.995680184025986\n",
            "Point: (-1.375, 1.8851979970932007, 2.5639889240264893), Curvature: 2.567729403836997\n",
            "Point: (-1.375, 1.8899999856948853, 2.625), Curvature: 2.9955880913071895\n",
            "Point: (-1.375, 1.8851979970932007, 2.6860110759735107), Curvature: 2.7328744602098296\n",
            "Point: (-1.375, 1.8709110021591187, 2.745518922805786), Curvature: 1.885173095511928\n",
            "Point: (-1.375, 1.847491979598999, 2.8020570278167725), Curvature: 1.4172021881234134\n",
            "Point: (-1.375, 1.8155180215835571, 2.8542349338531494), Curvature: 1.131943147261215\n",
            "Point: (-1.375, 1.775773048400879, 2.9007699489593506), Curvature: 0.8289865268878837\n",
            "Point: (-1.375, 1.7292369604110718, 2.9405159950256348), Curvature: 0.9081961728187083\n",
            "Point: (-1.375, 1.6770559549331665, 2.9724929332733154), Curvature: 0.6956971519760197\n",
            "Point: (-1.375, 1.620514988899231, 2.995913028717041), Curvature: 0.7945157842047772\n",
            "Point: (-1.375, 1.561007022857666, 3.0101990699768066), Curvature: 0.7616963143059994\n",
            "Point: (-1.375, 1.5, 3.015000104904175), Curvature: 0.6312018843209336\n",
            "Point: (-1.375, 1.438992977142334, 3.0101990699768066), Curvature: 0.779074487779667\n",
            "Point: (-1.375, 1.379485011100769, 2.995913028717041), Curvature: 0.840225283486846\n",
            "Point: (-1.375, 1.3229440450668335, 2.9724929332733154), Curvature: 0.951840271283267\n",
            "Point: (-1.375, 1.2707630395889282, 2.9405159950256348), Curvature: 1.1320464754019577\n",
            "Point: (-1.375, 1.224226951599121, 2.9007699489593506), Curvature: 1.4172206044977556\n",
            "Point: (-1.375, 1.1844819784164429, 2.8542349338531494), Curvature: 1.88511740766531\n",
            "Point: (-1.375, 1.152508020401001, 2.8020570278167725), Curvature: 2.732965887478077\n",
            "Point: (-1.375, 1.1290889978408813, 2.745518922805786), Curvature: 1.360118145758311\n",
            "Point: (-1.375, 1.1148020029067993, 2.6860110759735107), Curvature: -0.03247056161098212\n",
            "Point: (-1.0, 1.1148020029067993, 2.5639889240264893), Curvature: -0.03247056161098207\n",
            "Point: (-1.375, 1.1100000143051147, 2.625), Curvature: -0.10826701146128569\n",
            "Point: (-1.0, -1.1148020029067993, 2.6860110759735107), Curvature: -0.03247056161098207\n",
            "Point: (-1.0, 1.1290889978408813, 2.504481077194214), Curvature: -0.003508769011911106\n",
            "Point: (-1.375, 1.1148020029067993, 2.5639889240264893), Curvature: -0.36436160332565354\n",
            "Point: (-1.375, 1.1290889978408813, 2.504481077194214), Curvature: -0.3905304545758685\n",
            "Point: (-1.375, 1.152508020401001, 2.4479429721832275), Curvature: -0.40491698546155536\n",
            "Point: (-1.375, 1.1844819784164429, 2.3957650661468506), Curvature: -0.4097028764556973\n",
            "Point: (-1.375, 1.224226951599121, 2.3492300510406494), Curvature: -0.40510611205647845\n",
            "Point: (-1.375, 1.2707630395889282, 2.3094840049743652), Curvature: -0.39097878359932664\n",
            "Point: (-1.375, 1.3229440450668335, 2.2775070667266846), Curvature: -0.3651220205167614\n",
            "Point: (-1.375, 1.379485011100769, 2.254086971282959), Curvature: -0.323411687047429\n",
            "Point: (-1.375, -1.5, 2.234999895095825), Curvature: -0.1565945544067156\n",
            "Point: (-1.375, -1.561007022857666, 2.2398009300231934), Curvature: -0.18677699448251456\n",
            "Point: (-1.375, -1.438992977142334, 2.2398009300231934), Curvature: -0.10552279179422079\n",
            "Point: (-1.375, -1.379485011100769, 2.254086971282959), Curvature: -0.024597365490209723\n",
            "Point: (-1.375, -1.3229440450668335, 2.2775070667266846), Curvature: 0.10444726172285482\n",
            "Point: (-1.375, -1.2707630395889282, 2.3094840049743652), Curvature: 0.3225393363225235\n",
            "Point: (-1.375, -1.224226951599121, 2.3492300510406494), Curvature: 0.7443426126029997\n",
            "Point: (-1.375, -1.1844819784164429, 2.3957650661468506), Curvature: 1.8746405613482566\n",
            "Point: (-1.375, -1.152508020401001, 2.4479429721832275), Curvature: 1.1408975217445079\n",
            "Point: (-1.375, -1.1290889978408813, 2.504481077194214), Curvature: -0.0035087690119110617\n",
            "Point: (-1.375, -1.1148020029067993, 2.5639889240264893), Curvature: -0.03247056161098212\n",
            "Point: (-1.375, -1.1100000143051147, 2.625), Curvature: -0.06212957251546247\n",
            "Point: (-1.375, -1.1148020029067993, 2.6860110759735107), Curvature: -0.16854749171518466\n",
            "Point: (-1.375, -1.1290889978408813, 2.745518922805786), Curvature: -0.18380306314504025\n",
            "Point: (-1.375, -1.152508020401001, 2.8020570278167725), Curvature: -0.18398118341570252\n",
            "Point: (-1.375, -1.1844819784164429, 2.8542349338531494), Curvature: -0.16925500508834218\n",
            "Point: (-1.375, -1.224226951599121, 2.9007699489593506), Curvature: -0.13721724059916193\n",
            "Point: (-1.375, -1.2707630395889282, 2.9405159950256348), Curvature: -0.08354165513338278\n",
            "Point: (-1.375, -1.3229440450668335, 2.9724929332733154), Curvature: 0.0014899309248101566\n",
            "Point: (-1.375, -1.379485011100769, 2.995913028717041), Curvature: 0.13719193517364064\n",
            "Point: (-1.375, -1.438992977142334, 3.0101990699768066), Curvature: 0.3676509998922629\n",
            "Point: (-1.375, -1.5, 3.015000104904175), Curvature: 0.5307676955764323\n",
            "Point: (-1.375, -1.561007022857666, 3.0101990699768066), Curvature: 0.779074487779667\n",
            "Point: (-1.375, -1.620514988899231, 2.995913028717041), Curvature: 0.6748124044195941\n",
            "Point: (-1.375, -1.6770559549331665, 2.9724929332733154), Curvature: 0.8711996682081239\n",
            "Point: (-1.375, -1.7292369604110718, 2.9405159950256348), Curvature: 0.7871327155463406\n",
            "Point: (-1.375, -1.775773048400879, 2.9007699489593506), Curvature: 1.0626756176767045\n",
            "Point: (-1.375, -1.8155180215835571, 2.8542349338531494), Curvature: 1.3068688109232407\n",
            "Point: (-1.375, -1.847491979598999, 2.8020570278167725), Curvature: 1.7008254717263838\n",
            "Point: (-1.375, -1.8709110021591187, 2.745518922805786), Curvature: 2.3850219846230853\n",
            "Point: (-1.375, -1.8851979970932007, 2.6860110759735107), Curvature: 2.546778286640665\n",
            "Point: (-1.375, -1.8899999856948853, 2.625), Curvature: 1.3552981795484453\n",
            "Point: (-1.375, -1.8851979970932007, 2.5639889240264893), Curvature: 0.35826045637403414\n",
            "Point: (-1.375, -1.8709110021591187, 2.504481077194214), Curvature: 0.12452685235896119\n",
            "Point: (-1.375, -1.847491979598999, 2.4479429721832275), Curvature: -0.012195908882160999\n",
            "Point: (-1.375, -1.8155180215835571, 2.3957650661468506), Curvature: -0.09778282662161857\n",
            "Point: (-1.375, -1.775773048400879, 2.3492300510406494), Curvature: -0.15170021793932165\n",
            "Point: (-1.375, -1.7292369604110718, 2.3094840049743652), Curvature: -0.18409998566115107\n",
            "Point: (-1.375, -1.6770559549331665, 2.2775070667266846), Curvature: -0.19966617467390818\n",
            "Point: (-1.375, -1.620514988899231, 2.254086971282959), Curvature: -0.20055012348210294\n"
          ]
        }
      ],
      "source": [
        "import vtk\n",
        "\n",
        "def calculate_mean_curvature(filename):\n",
        "  \"\"\"\n",
        "  Calculates the mean curvature of each vertex in an STL file.\n",
        "\n",
        "  Args:\n",
        "      filename: The path to the STL file.\n",
        "\n",
        "  Returns:\n",
        "      A list of tuples, where each tuple contains the vertex coordinates and its mean curvature.\n",
        "  \"\"\"\n",
        "\n",
        "  # Load the STL file\n",
        "  reader = vtk.vtkSTLReader()\n",
        "  reader.SetFileName(filename)\n",
        "  reader.Update()\n",
        "\n",
        "  # Calculate mean curvature\n",
        "  curve = vtk.vtkCurvatures()\n",
        "  curve.SetInputConnection(reader.GetOutputPort())\n",
        "  curve.SetCurvatureTypeToMean()\n",
        "  curve.Update()\n",
        "\n",
        "  # Extract vertex coordinates and curvature values\n",
        "  dataObject = curve.GetOutput()\n",
        "  points = dataObject.GetPoints().GetData()\n",
        "  curvature_array = dataObject.GetPointData().GetScalars()\n",
        "\n",
        "  # Create a list of tuples\n",
        "  vertex_curvatures = []\n",
        "  for i in range(dataObject.GetNumberOfPoints()):\n",
        "    point = points.GetTuple(i)\n",
        "    curvature = curvature_array.GetValue(i)\n",
        "    vertex_curvatures.append((point, curvature))\n",
        "\n",
        "  return vertex_curvatures\n",
        "\n",
        "# Example usage\n",
        "filename = \"C:\\\\Users\\\\COE\\\\Desktop\\\\stl_1000\\\\122409_307-134d_flat1_prt.stl\"\n",
        "vertex_curvatures = calculate_mean_curvature(filename)\n",
        "\n",
        "for point, curvature in vertex_curvatures:\n",
        "  print(f\"Point: {point}, Curvature: {curvature}\")"
      ]
    },
    {
      "cell_type": "code",
      "execution_count": 14,
      "metadata": {
        "colab": {
          "base_uri": "https://localhost:8080/"
        },
        "id": "Bk5p9pBm9Wcl",
        "outputId": "6ecfd4fb-854d-4bd0-8e6d-2cdb3468d479"
      },
      "outputs": [
        {
          "name": "stdout",
          "output_type": "stream",
          "text": [
            "Centroid: [-1.1875000e+00  5.2007973e-08  2.4878144e+00]\n"
          ]
        }
      ],
      "source": [
        "def calculate_centroid(mesh_data):\n",
        "    \"\"\"\n",
        "    Calculate the centroid for an STL mesh.\n",
        "\n",
        "    Parameters:\n",
        "    - mesh_data: STL mesh data\n",
        "\n",
        "    Returns:\n",
        "    - centroid: Centroid coordinates\n",
        "    \"\"\"\n",
        "    centroid = np.mean(mesh_data.vectors.reshape(-1, 3), axis=0)\n",
        "\n",
        "    return centroid\n",
        "\n",
        "# Example usage\n",
        "stl_file_path = \"C:\\\\Users\\\\COE\\\\Desktop\\\\stl_1000\\\\122409_307-134d_flat1_prt.stl\"\n",
        "mesh_data = mesh.Mesh.from_file(stl_file_path)\n",
        "centroid = calculate_centroid(mesh_data)\n",
        "print(f\"Centroid: {centroid}\")\n"
      ]
    },
    {
      "cell_type": "code",
      "execution_count": 15,
      "metadata": {
        "colab": {
          "base_uri": "https://localhost:8080/"
        },
        "id": "2DQ1Ei0B1W1v",
        "outputId": "4ad5c6fc-4e3b-47f1-ef77-1389d76a4d10"
      },
      "outputs": [
        {
          "name": "stdout",
          "output_type": "stream",
          "text": [
            "Cavities: 59\n"
          ]
        }
      ],
      "source": [
        "import os\n",
        "import numpy as np\n",
        "from stl import mesh\n",
        "from sklearn.cluster import KMeans\n",
        "from sklearn.preprocessing import StandardScaler\n",
        "from sklearn.mixture import GaussianMixture\n",
        "from sklearn.impute import SimpleImputer\n",
        "from sklearn.preprocessing import normalize\n",
        "from sklearn.mixture import GaussianMixture\n",
        "import networkx as nx\n",
        "from scipy.sparse.csgraph import connected_components\n",
        "from sklearn.impute import SimpleImputer\n",
        "def extract_holes_and_cavities(mesh_data):\n",
        "    # Implementation for extracting holes and cavities\n",
        "    # ...\n",
        "    G = nx.Graph()\n",
        "\n",
        "    # Add edges based on vertices of each facet\n",
        "    for facet in mesh_data.vectors:\n",
        "        for i in range(3):\n",
        "            edge = tuple(facet[i])\n",
        "            G.add_node(edge)  # Add individual vertices as nodes\n",
        "            next_i = (i + 1) % 3\n",
        "            next_edge = tuple(facet[next_i])\n",
        "            G.add_edge(edge, next_edge)\n",
        "\n",
        "    # Euler characteristic: V - E + F = 2(1 - g - h)\n",
        "    euler_characteristic = 2 - len(G.edges) / 2 + len(G.nodes)\n",
        "\n",
        "    # Calculate the genus (g) and number of handles (h)\n",
        "    genus = (2 - euler_characteristic) / 2\n",
        "    handles = abs(euler_characteristic) / 2\n",
        "\n",
        "    return int(handles)\n",
        "stl_file_path = \"C:\\\\Users\\\\COE\\\\Desktop\\\\stl_1000\\\\122409_307-134d_flat1_prt.stl\"\n",
        "mesh_data = mesh.Mesh.from_file(stl_file_path)\n",
        "cavities = extract_holes_and_cavities(mesh_data)\n",
        "print(f\"Cavities: {cavities}\")"
      ]
    },
    {
      "cell_type": "code",
      "execution_count": 16,
      "metadata": {},
      "outputs": [],
      "source": [
        "from stl_metadata import Surface,Facet"
      ]
    },
    {
      "cell_type": "code",
      "execution_count": 18,
      "metadata": {
        "colab": {
          "base_uri": "https://localhost:8080/",
          "height": 1000
        },
        "id": "tPuEl8ky9dNS",
        "outputId": "42ba23b7-c8f6-41c8-9166-d427920a4e57"
      },
      "outputs": [],
      "source": [
        "import os\n",
        "import numpy as np\n",
        "from stl import mesh\n",
        "from sklearn.mixture import GaussianMixture\n",
        "from sklearn.impute import SimpleImputer\n",
        "from sklearn.preprocessing import StandardScaler\n",
        "import networkx as nx\n",
        "from scipy.sparse.csgraph import connected_components\n",
        "import shutil\n",
        "\n",
        "def calculate_centroid(mesh_data):\n",
        "    centroid = np.mean(mesh_data.vectors.reshape(-1, 3), axis=0)\n",
        "    return centroid\n",
        "\n",
        "def extract_holes_and_cavities(mesh_data):\n",
        "    G = nx.Graph()\n",
        "\n",
        "    for facet in mesh_data.vectors:\n",
        "        for i in range(3):\n",
        "            edge = tuple(facet[i])\n",
        "            G.add_node(edge)\n",
        "            next_i = (i + 1) % 3\n",
        "            next_edge = tuple(facet[next_i])\n",
        "            G.add_edge(edge, next_edge)\n",
        "\n",
        "    euler_characteristic = 2 - len(G.edges) / 2 + len(G.nodes)\n",
        "    genus = (2 - euler_characteristic) / 2\n",
        "    handles = abs(euler_characteristic) / 2\n",
        "\n",
        "    return int(handles)\n",
        "\n",
        "def collect_features(folder_path):\n",
        "    features_list = []\n",
        "    stl_files = [f for f in os.listdir(folder_path) if f.endswith('.stl')]\n",
        "\n",
        "    for stl_file in stl_files:\n",
        "        stl_file_path = os.path.join(folder_path, stl_file)\n",
        "        mesh_data = mesh.Mesh.from_file(stl_file_path)\n",
        "\n",
        "        centroid = calculate_centroid(mesh_data)\n",
        "        cavities = extract_holes_and_cavities(mesh_data)\n",
        "        \n",
        "        surface = Surface()\n",
        "        surface.load(stl_file_path)\n",
        "        surface_area =  surface.get_area()\n",
        "        bbv = surface.get_bounding_box_volume()\n",
        "        features_list.append(np.concatenate([\n",
        "            np.array(centroid),\n",
        "            np.array([cavities]),\n",
        "            np.array([surface_area]),\n",
        "            # np.array([bbv])\n",
        "        ]))\n",
        "\n",
        "    features_array = np.array(features_list)\n",
        "\n",
        "    imputer = SimpleImputer(strategy='mean')\n",
        "    features_array_imputed = imputer.fit_transform(features_array)\n",
        "\n",
        "    return features_array_imputed, stl_files\n",
        "\n",
        "def cluster_with_gmm(X, n_clusters):\n",
        "    scaler = StandardScaler()\n",
        "    X_scaled = scaler.fit_transform(X)\n",
        "\n",
        "    gmm = GaussianMixture(n_components=n_clusters)\n",
        "    labels = gmm.fit_predict(X_scaled)\n",
        "\n",
        "    return labels\n",
        "\n",
        "def create_cluster_folders(base_folder, labels, stl_files):\n",
        "    for cluster_label in np.unique(labels):\n",
        "        cluster_folder = os.path.join(base_folder, f'Cluster_{cluster_label}')\n",
        "        os.makedirs(cluster_folder, exist_ok=True)\n",
        "\n",
        "        stl_files_cluster = [stl_file for stl_file, label in zip(stl_files, labels) if label == cluster_label]\n",
        "        for stl_file in stl_files_cluster:\n",
        "            source_path = os.path.join(folder_path, stl_file)\n",
        "            destination_path = os.path.join(cluster_folder, stl_file)\n",
        "            shutil.copy(source_path, destination_path)\n",
        "\n",
        "if __name__ == \"__main__\":\n",
        "    folder_path = \"C:\\\\Users\\\\COE\\\\Desktop\\\\stl_1000\"\n",
        "    output_folder = \"C:\\\\Users\\\\COE\\\\Desktop\\\\GMM_cav_sa_1000\"\n",
        "    min_samples_per_cluster = 5\n",
        "\n",
        "    # Collect features\n",
        "    X, stl_files = collect_features(folder_path)\n",
        "\n",
        "    # Cluster with GMM\n",
        "    n_clusters = 187\n",
        "    labels = cluster_with_gmm(X, n_clusters)\n",
        "\n",
        "    # Create separate folders for each cluster\n",
        "    create_cluster_folders(output_folder, labels, stl_files)\n",
        "\n",
        "    # # Display clustering results\n",
        "    # for stl_file, label, features in zip(stl_files, labels, X):\n",
        "    #     print(f\"File: {stl_file}\")\n",
        "    #     print(f\"  Centroid: {features[:3]}\")\n",
        "    #     print(f\"  Cavities: {features[3]}\")\n",
        "    #     print(f\"  Cluster Label: {label}\")\n",
        "    #     print(\"\")\n"
      ]
    },
    {
      "cell_type": "code",
      "execution_count": null,
      "metadata": {
        "id": "RbARd1Kd7YW_"
      },
      "outputs": [],
      "source": []
    },
    {
      "cell_type": "code",
      "execution_count": null,
      "metadata": {},
      "outputs": [],
      "source": []
    },
    {
      "cell_type": "code",
      "execution_count": null,
      "metadata": {},
      "outputs": [],
      "source": []
    },
    {
      "cell_type": "code",
      "execution_count": null,
      "metadata": {},
      "outputs": [],
      "source": []
    },
    {
      "cell_type": "code",
      "execution_count": null,
      "metadata": {},
      "outputs": [],
      "source": []
    },
    {
      "cell_type": "code",
      "execution_count": null,
      "metadata": {},
      "outputs": [],
      "source": []
    }
  ],
  "metadata": {
    "colab": {
      "provenance": []
    },
    "kernelspec": {
      "display_name": "Python 3",
      "name": "python3"
    },
    "language_info": {
      "codemirror_mode": {
        "name": "ipython",
        "version": 3
      },
      "file_extension": ".py",
      "mimetype": "text/x-python",
      "name": "python",
      "nbconvert_exporter": "python",
      "pygments_lexer": "ipython3",
      "version": "3.12.2"
    }
  },
  "nbformat": 4,
  "nbformat_minor": 0
}
